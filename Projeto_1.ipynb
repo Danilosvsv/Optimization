{
 "cells": [
  {
   "cell_type": "code",
   "execution_count": 1,
   "metadata": {},
   "outputs": [],
   "source": [
    "#pip install pulp"
   ]
  },
  {
   "cell_type": "code",
   "execution_count": 2,
   "metadata": {},
   "outputs": [],
   "source": [
    "from pulp import * # importa-se a biblioteca pulp para obter uma solução para o modelo"
   ]
  },
  {
   "cell_type": "markdown",
   "metadata": {},
   "source": [
    "### Projeto 1 - Escolha de Carteira de Investimentos [Modificado]\n",
    "\n",
    "Uma empresa de investimentos X gerencia recursos de terceiros através da escolha de carteiras de investimento para diversos clientes, baseados em bonds de diversas empresas. Um de seus clientes exige que:\n",
    "\n",
    "- Não mais de 25% do total aplicado deve ser investido em único investimento\n",
    "- Um valor superior a 50% do total aplicado deve ser investido em títulos de maturidade maiores que dez anos.\n",
    "- o Total Aplicado em títulos de alto risco deve ser, no máximo, de 50% do total investido."
   ]
  },
  {
   "cell_type": "code",
   "execution_count": 38,
   "metadata": {},
   "outputs": [
    {
     "data": {
      "text/html": [
       "<div>\n",
       "<style scoped>\n",
       "    .dataframe tbody tr th:only-of-type {\n",
       "        vertical-align: middle;\n",
       "    }\n",
       "\n",
       "    .dataframe tbody tr th {\n",
       "        vertical-align: top;\n",
       "    }\n",
       "\n",
       "    .dataframe thead th {\n",
       "        text-align: right;\n",
       "    }\n",
       "</style>\n",
       "<table border=\"1\" class=\"dataframe\">\n",
       "  <thead>\n",
       "    <tr style=\"text-align: right;\">\n",
       "      <th></th>\n",
       "      <th>Títulos</th>\n",
       "      <th>Retorno/Ano</th>\n",
       "      <th>Anos para Vencimento</th>\n",
       "      <th>Risco</th>\n",
       "    </tr>\n",
       "  </thead>\n",
       "  <tbody>\n",
       "    <tr>\n",
       "      <th>0</th>\n",
       "      <td>A</td>\n",
       "      <td>0.087</td>\n",
       "      <td>7</td>\n",
       "      <td>2</td>\n",
       "    </tr>\n",
       "    <tr>\n",
       "      <th>1</th>\n",
       "      <td>B</td>\n",
       "      <td>0.095</td>\n",
       "      <td>11</td>\n",
       "      <td>3</td>\n",
       "    </tr>\n",
       "    <tr>\n",
       "      <th>2</th>\n",
       "      <td>C</td>\n",
       "      <td>0.120</td>\n",
       "      <td>12</td>\n",
       "      <td>5</td>\n",
       "    </tr>\n",
       "    <tr>\n",
       "      <th>3</th>\n",
       "      <td>D</td>\n",
       "      <td>0.090</td>\n",
       "      <td>14</td>\n",
       "      <td>1</td>\n",
       "    </tr>\n",
       "    <tr>\n",
       "      <th>4</th>\n",
       "      <td>E</td>\n",
       "      <td>0.135</td>\n",
       "      <td>3</td>\n",
       "      <td>4</td>\n",
       "    </tr>\n",
       "    <tr>\n",
       "      <th>5</th>\n",
       "      <td>F</td>\n",
       "      <td>0.211</td>\n",
       "      <td>15</td>\n",
       "      <td>1</td>\n",
       "    </tr>\n",
       "    <tr>\n",
       "      <th>6</th>\n",
       "      <td>G</td>\n",
       "      <td>0.165</td>\n",
       "      <td>19</td>\n",
       "      <td>3</td>\n",
       "    </tr>\n",
       "    <tr>\n",
       "      <th>7</th>\n",
       "      <td>H</td>\n",
       "      <td>0.078</td>\n",
       "      <td>13</td>\n",
       "      <td>2</td>\n",
       "    </tr>\n",
       "    <tr>\n",
       "      <th>8</th>\n",
       "      <td>I</td>\n",
       "      <td>0.151</td>\n",
       "      <td>2</td>\n",
       "      <td>4</td>\n",
       "    </tr>\n",
       "    <tr>\n",
       "      <th>9</th>\n",
       "      <td>J</td>\n",
       "      <td>0.099</td>\n",
       "      <td>10</td>\n",
       "      <td>2</td>\n",
       "    </tr>\n",
       "  </tbody>\n",
       "</table>\n",
       "</div>"
      ],
      "text/plain": [
       "  Títulos  Retorno/Ano  Anos para Vencimento  Risco\n",
       "0       A        0.087                     7      2\n",
       "1       B        0.095                    11      3\n",
       "2       C        0.120                    12      5\n",
       "3       D        0.090                    14      1\n",
       "4       E        0.135                     3      4\n",
       "5       F        0.211                    15      1\n",
       "6       G        0.165                    19      3\n",
       "7       H        0.078                    13      2\n",
       "8       I        0.151                     2      4\n",
       "9       J        0.099                    10      2"
      ]
     },
     "execution_count": 38,
     "metadata": {},
     "output_type": "execute_result"
    }
   ],
   "source": [
    "# Esse comando é utilizado para o pandas reconhecer o formato .odf do excel: pip install odfpy \n",
    "import pandas as pd\n",
    "\n",
    "df = pd.read_excel('Dados_Investimento.ods',engine='odf')\n",
    "df"
   ]
  },
  {
   "cell_type": "markdown",
   "metadata": {},
   "source": [
    "#### Descrição das Variáveis\n",
    "\n",
    "- Títulos -> Nome dos Títulos do conjunto de dados;\n",
    "- Retorno/Ano -> Taxa de Retorno do Investimento no ano;\n",
    "- Anos para Vencimento -> Valor máximo de anos \n",
    "- Risco -> Índice de Risco para cada título: (1- Muito baixo), (2- baixo), (3- regular), (4- alto), (5- muito alto) \n"
   ]
  },
  {
   "cell_type": "markdown",
   "metadata": {},
   "source": [
    "## Modelagem\n",
    "\n",
    "$Maximizar: $ $$0.087\\frac{(P1)}{100}+0.095\\frac{(P2)}{100}+0.120\\frac{(P3)}{100}+0.090\\frac{(P4)}{100}+0.135\\frac{(P5)}{100}+0.211\\frac{(P6)}{100}+0.165\\frac{(P7)}{100}+0.078\\frac{(P8)}{100}+0.151\\frac{(P9)}{100}+0.099\\frac{(P10)}{100},$$\n",
    "\n",
    "Sujeito a:\n",
    "\n",
    "$\\sum\\limits_{i=1}^{10}P_i=100$ (Restrição de Orçamento do Cliente)\n",
    "\n",
    "$P_i \\leq 25, \\forall i \\in [1,10]$ (Restrição de Risco por título)\n",
    "\n",
    "$P2+P3+P4+P6+P7+P8 \\geq 50$ (Restrição de Títulos com vencimento superior a dez anos)\n",
    "\n",
    "$P1+P5+P9+P10 \\leq 50$ (Restrição de Títulos de alto risco)\n",
    "\n",
    "$P_i \\geq 0, \\forall i \\in [1,10]$ (Não-negatividade)\n"
   ]
  },
  {
   "cell_type": "code",
   "execution_count": 24,
   "metadata": {},
   "outputs": [],
   "source": [
    "# Criando as variáveis de percentuais\n",
    "\n",
    "prob = LpProblem(\"myProblem\", LpMaximize)\n",
    "P1 = LpVariable(\"P1\", 0, 25)\n",
    "P2 = LpVariable(\"P2\", 0, 25)\n",
    "P3 = LpVariable(\"P3\", 0, 25)\n",
    "P4 = LpVariable(\"P4\", 0, 25)\n",
    "P5 = LpVariable(\"P5\", 0, 25)\n",
    "P6 = LpVariable(\"P6\", 0, 25)\n",
    "P7 = LpVariable(\"P7\", 0, 25)\n",
    "P8 = LpVariable(\"P8\", 0, 25)\n",
    "P9 = LpVariable(\"P9\", 0, 25)\n",
    "P10 = LpVariable(\"P10\", 0, 25)\n",
    "\n",
    "# Função Objetivo\n",
    "prob += 0.087*(P1*0.01) + 0.095*(P2*0.01) + 0.120*(P3*0.01) + 0.090*(P4*0.01) + 0.135*(P5*0.01) + 0.211*(P6*0.01) + 0.165*(P7*0.01) + 0.078*(P8*0.01) + 0.151*(P9*0.01) + 0.099*(P10*0.01) , \"obj\"\n",
    "\n",
    "# Restrições\n",
    "\n",
    "prob += P1 + P2 + P3 + P4 + P5 + P6 + P7 + P8 + P9 + P10 == 100, \"c1\"\n",
    "prob += P2 + P3 + P4 + P6 + P7 + P8 >= 50, \"c2\"\n",
    "prob += P1 + P5 + P9 + P10 <= 50, \"c3\"\n",
    "\n"
   ]
  },
  {
   "cell_type": "code",
   "execution_count": 25,
   "metadata": {},
   "outputs": [
    {
     "data": {
      "text/plain": [
       "1"
      ]
     },
     "execution_count": 25,
     "metadata": {},
     "output_type": "execute_result"
    }
   ],
   "source": [
    "status = prob.solve()\n",
    "status"
   ]
  },
  {
   "cell_type": "code",
   "execution_count": 26,
   "metadata": {},
   "outputs": [
    {
     "data": {
      "text/plain": [
       "'Optimal'"
      ]
     },
     "execution_count": 26,
     "metadata": {},
     "output_type": "execute_result"
    }
   ],
   "source": [
    "LpStatus[status]"
   ]
  },
  {
   "cell_type": "code",
   "execution_count": 44,
   "metadata": {},
   "outputs": [
    {
     "name": "stdout",
     "output_type": "stream",
     "text": [
      "P1 = 0.0\n",
      "P10 = 0.0\n",
      "P2 = 0.0\n",
      "P3 = 0.0\n",
      "P4 = 0.0\n",
      "P5 = 25.0\n",
      "P6 = 25.0\n",
      "P7 = 25.0\n",
      "P8 = 0.0\n",
      "P9 = 25.0\n"
     ]
    }
   ],
   "source": [
    "for v in prob.variables(): # esse laço percorre as variáveis definidas para o problema\n",
    "    print(v.name, \"=\", v.varValue)"
   ]
  },
  {
   "cell_type": "code",
   "execution_count": 48,
   "metadata": {},
   "outputs": [
    {
     "name": "stdout",
     "output_type": "stream",
     "text": [
      "Taxa de retorno =  0.1655\n"
     ]
    }
   ],
   "source": [
    "print(\"Taxa de retorno = \", value(prob.objective)) # valor da função objetivo"
   ]
  },
  {
   "cell_type": "markdown",
   "metadata": {},
   "source": [
    "#### De acordo com os requisitos solicitados pelo cliente, os investimentos seriam de 25% nos títulos E, F, G e I."
   ]
  },
  {
   "cell_type": "markdown",
   "metadata": {},
   "source": [
    "#### Referências\n",
    "\n",
    "LACHTERMACHER, Gerson. Pesquisa Operacional na Tomada de Decisões. Rio de Janeiro: Editora Campus, 2002."
   ]
  }
 ],
 "metadata": {
  "kernelspec": {
   "display_name": "Python 3",
   "language": "python",
   "name": "python3"
  },
  "language_info": {
   "codemirror_mode": {
    "name": "ipython",
    "version": 3
   },
   "file_extension": ".py",
   "mimetype": "text/x-python",
   "name": "python",
   "nbconvert_exporter": "python",
   "pygments_lexer": "ipython3",
   "version": "3.8.3"
  }
 },
 "nbformat": 4,
 "nbformat_minor": 4
}
